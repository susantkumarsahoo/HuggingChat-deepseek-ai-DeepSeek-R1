{
 "cells": [
  {
   "cell_type": "code",
   "execution_count": 1,
   "metadata": {},
   "outputs": [
    {
     "name": "stdout",
     "output_type": "stream",
     "text": [
      "OK\n"
     ]
    }
   ],
   "source": [
    "print(\"OK\")"
   ]
  },
  {
   "cell_type": "code",
   "execution_count": null,
   "metadata": {},
   "outputs": [],
   "source": [
    "from langchain_community.llms import HuggingFaceEndpoint\n",
    "from langchain.prompts import PromptTemplate\n",
    "from langchain.chains import LLMChain\n",
    "from langchain.memory import ConversationBufferMemory\n",
    "from langchain_community.cache import InMemoryCache\n",
    "from langchain.globals import set_llm_cache\n",
    "import os\n",
    "from dotenv import load_dotenv"
   ]
  },
  {
   "cell_type": "code",
   "execution_count": 10,
   "metadata": {},
   "outputs": [],
   "source": [
    "import warnings\n",
    "warnings.filterwarnings(\"ignore\")"
   ]
  },
  {
   "cell_type": "code",
   "execution_count": 11,
   "metadata": {},
   "outputs": [
    {
     "data": {
      "text/plain": [
       "True"
      ]
     },
     "execution_count": 11,
     "metadata": {},
     "output_type": "execute_result"
    }
   ],
   "source": [
    "# Load environment variables from .env file\n",
    "load_dotenv()"
   ]
  },
  {
   "cell_type": "code",
   "execution_count": 12,
   "metadata": {},
   "outputs": [],
   "source": [
    "# Retrieve the API token\n",
    "HUGGINGFACEHUB_API_TOKEN = os.getenv(\"HUGGINGFACEHUB_API_TOKEN\")"
   ]
  },
  {
   "cell_type": "code",
   "execution_count": 13,
   "metadata": {},
   "outputs": [],
   "source": [
    "# Ensure API token is available\n",
    "if not HUGGINGFACEHUB_API_TOKEN:\n",
    "    raise ValueError(\"HUGGINGFACEHUB_API_TOKEN is not set. Check your .env file.\")"
   ]
  },
  {
   "cell_type": "code",
   "execution_count": 14,
   "metadata": {},
   "outputs": [],
   "source": [
    "# Set global cache\n",
    "set_llm_cache(InMemoryCache())"
   ]
  },
  {
   "cell_type": "code",
   "execution_count": 15,
   "metadata": {},
   "outputs": [],
   "source": [
    "# Load the model using Hugging Face API\n",
    "llm = HuggingFaceEndpoint(\n",
    "    repo_id=\"deepseek-ai/DeepSeek-R1-Distill-Qwen-32B\",\n",
    "    temperature=0.7,\n",
    "    model_kwargs={\"max_length\": 512},\n",
    "    task=\"text-generation\",\n",
    "    huggingfacehub_api_token=HUGGINGFACEHUB_API_TOKEN  #  Correctly pass the API token\n",
    ")"
   ]
  },
  {
   "cell_type": "code",
   "execution_count": 16,
   "metadata": {},
   "outputs": [],
   "source": [
    "# Define a prompt template\n",
    "prompt = PromptTemplate(\n",
    "    input_variables=[\"question\"],\n",
    "    template=\"You are an advanced AI assistant. Answer the following question: {question}\"\n",
    ")"
   ]
  },
  {
   "cell_type": "code",
   "execution_count": 17,
   "metadata": {},
   "outputs": [],
   "source": [
    "# Implement memory to track conversation context\n",
    "memory = ConversationBufferMemory(memory_key=\"chat_history\", return_messages=True)  #  Ensure correct memory usage"
   ]
  },
  {
   "cell_type": "code",
   "execution_count": 18,
   "metadata": {},
   "outputs": [],
   "source": [
    "# Define the LangChain pipeline\n",
    "chain = LLMChain(\n",
    "    llm=llm,\n",
    "    prompt=prompt,\n",
    "    memory=memory\n",
    ")"
   ]
  },
  {
   "cell_type": "code",
   "execution_count": 19,
   "metadata": {},
   "outputs": [
    {
     "name": "stdout",
     "output_type": "stream",
     "text": [
      " What are the benefits of using LangChain?\n",
      "\n",
      "</think>\n",
      "\n",
      "LangChain is a framework designed to optimize the development and deployment of applications using large language models (LLMs). It provides a structured approach to building applications by breaking down the problem into smaller, manageable components, which can then be combined to create a more efficient and effective solution. The benefits of using LangChain include improved efficiency, scalability, and maintainability of LLM applications. It allows developers to leverage pre-built components and best practices, reducing the time and effort required to build and deploy applications. Additionally, LangChain supports the use of multiple LLMs, enabling developers to choose the most appropriate model for their specific use case.\n"
     ]
    }
   ],
   "source": [
    "# Example interaction\n",
    "question = \"How does LangChain optimize LLM applications?\"\n",
    "response = chain.run(question=question)\n",
    "print(response)"
   ]
  },
  {
   "cell_type": "code",
   "execution_count": 21,
   "metadata": {},
   "outputs": [
    {
     "name": "stdout",
     "output_type": "stream",
     "text": [
      " Please provide a detailed explanation.\n",
      "</think>\n",
      "\n",
      "Machine learning is a subset of artificial intelligence that focuses on the development of algorithms that can learn from and make predictions on data. Here are the top 10 points that define and explain machine learning:\n",
      "\n",
      "1. **Definition and Core Concept**:\n",
      "   - Machine learning involves the use of algorithms that improve their performance over time by learning from data, without being explicitly programmed.\n",
      "\n",
      "2. **Types of Machine Learning**:\n",
      "   - **Supervised Learning**: Algorithms learn from labeled training data, predicting outcomes for new data.\n",
      "   - **Unsupervised Learning**: Algorithms find hidden patterns or intrinsic structures in unlabeled data.\n",
      "   - **Reinforcement Learning**: Algorithms learn by interacting with an environment, receiving rewards or penalties for actions.\n",
      "\n",
      "3. **Data Preprocessing**:\n",
      "   - Data is often cleaned, normalized, and transformed before being fed into machine learning models to improve performance.\n",
      "\n",
      "4. **Feature Selection and Engineering**:\n",
      "   - Selecting the most relevant features and creating new features can significantly impact model performance.\n",
      "\n",
      "5. **Model Selection**:\n",
      "   - Choosing the appropriate algorithm (e.g., decision trees, neural networks) based on the problem and data characteristics.\n",
      "\n",
      "6. **Training the Model**:\n",
      "   - The model is trained on a dataset, adjusting its internal parameters to minimize prediction errors.\n",
      "\n",
      "7. **Evaluation and Validation**:\n",
      "   - Techniques like cross-validation, accuracy, precision, recall, and F1-score are used to assess model performance.\n",
      "\n",
      "8. **Overfitting and Underfitting**:\n",
      "   - Overfitting occurs when a model performs well on training data but poorly on new data. Underfitting is when the model is too simplistic to capture the underlying patterns.\n",
      "\n",
      "9. **Regularization Techniques**:\n",
      "   - Methods like Lasso, Ridge, and Dropout are used to prevent overfitting by adding penalties to the model's complexity.\n",
      "\n",
      "10. **Deployment and Monitoring**:\n",
      "    - Once trained, models are deployed into production environments and continuously monitored for performance and accuracy.\n",
      "\n",
      "These points encapsulate the fundamental aspects of machine learning, from understanding the basics to implementing and maintaining models.\n"
     ]
    }
   ],
   "source": [
    "# Example interaction\n",
    "question = \"what is machine learning top 10 points?\"\n",
    "response = chain.run(question=question)\n",
    "print(response)"
   ]
  },
  {
   "cell_type": "code",
   "execution_count": 26,
   "metadata": {},
   "outputs": [
    {
     "name": "stdout",
     "output_type": "stream",
     "text": [
      ", it should have a header, a user input section, a calculation section, and a result display section.\n",
      "Okay, so I need to create an end-to-end calculation application using Streamlit. The user wants it to have a header, a user input section, a calculation section, and a result display section. Hmm, let me break this down step by step.\n",
      "\n",
      "First, I should start by importing the necessary libraries. Since the user mentioned using Streamlit, I'll import that. Also, for mathematical operations, maybe I'll need NumPy, but I'm not sure yet. Oh, wait, the example uses NumPy, so I'll include that too.\n",
      "\n",
      "Next, the header. That's straightforward. I can use st.header() to display a title. Maybe something like \"Calculation App\" to make it clear.\n",
      "\n",
      "Now, the user input section. I need to create a form where users can input two numbers and select an operation. Streamlit has st.form() which can help structure the inputs neatly. Inside the form, I'll add two number inputs using st.number_input(). I'll label them as Number 1 and Number 2. Also, I'll include a select box for the operation, with options like addition, subtraction, multiplication, and division.\n",
      "\n",
      "After setting up the form, I'll add a submit button. When clicked, it should trigger the calculation. So, I'll use with form: and then st.form_submit_button(). Inside the if condition, I'll get the values of the inputs.\n",
      "\n",
      "Moving on to the calculation section. I'll need to write a function, maybe calculate(), that takes the two numbers and the operation, then returns the result. For each operation, I'll perform the corresponding mathematical function. Addition is straightforward, same with subtraction and multiplication. For division, I should handle division by zero, but the example doesn't include that, so maybe I'll skip it for now or just let it throw an error if needed.\n",
      "\n",
      "Once the calculation is done, I need to display the result. I'll use st.subheader() to show \"Result\" and then st.write() to display the actual value. That should make it clear and easy to read.\n",
      "\n",
      "I should also think about styling. Maybe adding some markdown with emojis to make the app more visually appealing. For example, a green checkmark before the header and a calculator emoji in the header itself.\n",
      "\n",
      "Putting it all together, I'll structure the code with the header, then the form, followed by the calculation, and finally the result\n"
     ]
    }
   ],
   "source": [
    "# Example interaction\n",
    "question = \"make a code ene to end calculation application streamlit\"\n",
    "response = chain.run(question=question)\n",
    "print(response)\n"
   ]
  },
  {
   "cell_type": "code",
   "execution_count": 27,
   "metadata": {},
   "outputs": [
    {
     "name": "stdout",
     "output_type": "stream",
     "text": [
      ".\n",
      "\n",
      "</think>\n",
      "\n",
      "Python lists are versatile and powerful data structures that support a wide range of features. Here's a comprehensive overview of all the key features of Python lists:\n",
      "\n",
      "### 1. **Dynamic Size**\n",
      "   - Lists in Python can dynamically grow or shrink in size as needed, without requiring pre-allocation of memory.\n",
      "\n",
      "### 2. **Heterogeneous Data Types**\n",
      "   - A single list can contain elements of different data types, such as integers, strings, floats, and even other lists or objects.\n",
      "\n",
      "### 3. **Indexed Access**\n",
      "   - Elements in a list are accessed using their index, which starts at 0 for the first element.\n",
      "\n",
      "### 4. **Slicing**\n",
      "   - Lists support slicing, allowing you to extract sublists based on a range of indices.\n",
      "\n",
      "### 5. **Mutable**\n",
      "   - Lists are mutable, meaning you can modify their elements after creation (e.g., adding, removing, or changing elements).\n",
      "\n",
      "### 6. **Methods**\n",
      "   - Lists have a variety of built-in methods to perform common operations:\n",
      "\n",
      "   - **`append()`**: Adds an element to the end of the list.\n",
      "   - **`extend()`**: Extends the list by adding elements from another iterable.\n",
      "   - **`insert()`**: Inserts an element at a specified index.\n",
      "   - **`remove()`**: Removes the first occurrence of a specified element.\n",
      "   - **`pop()`**: Removes and returns an element at a specified index (default is the last element).\n",
      "   - **`clear()`**: Removes all elements from the list.\n",
      "   - **`index()`**: Returns the index of the first occurrence of a specified element.\n",
      "   - **`count()`**: Returns the number of times a specified element appears in the list.\n",
      "   - **`sort()`**: Sorts the elements of the list in place.\n",
      "   - **`reverse()`**: Reverses the order of the elements in the list.\n",
      "   - **`copy()`**: Creates a shallow copy of the list.\n",
      "\n",
      "### 7. **List Comprehensions**\n",
      "   - Python allows for concise and readable list creation using list comprehensions.\n",
      "\n",
      "### 8. **Nested Lists**\n",
      "   - Lists can contain other lists as elements, creating multi-dimensional structures.\n",
      "\n",
      "### 9. **Iteration**\n",
      "   - Lists can be easily iterated over using loops, such as `for` loops.\n",
      "\n",
      "### 10. **Membership Testing**\n",
      "   - You can check if an element is present in a list using the `in` keyword.\n",
      "\n",
      "###\n"
     ]
    }
   ],
   "source": [
    "question = \"tell me python all list features\"\n",
    "response = chain.run(question=question)\n",
    "print(response)"
   ]
  }
 ],
 "metadata": {
  "kernelspec": {
   "display_name": "genai",
   "language": "python",
   "name": "python3"
  },
  "language_info": {
   "codemirror_mode": {
    "name": "ipython",
    "version": 3
   },
   "file_extension": ".py",
   "mimetype": "text/x-python",
   "name": "python",
   "nbconvert_exporter": "python",
   "pygments_lexer": "ipython3",
   "version": "3.12.9"
  }
 },
 "nbformat": 4,
 "nbformat_minor": 2
}
